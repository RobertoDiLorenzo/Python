{
 "cells": [
  {
   "cell_type": "code",
   "execution_count": 24,
   "id": "06d7a1a3",
   "metadata": {},
   "outputs": [],
   "source": [
    "import numpy as np\n",
    "import matplotlib.pyplot as plt\n",
    "\n",
    "#from sympy.interactive.printing import init_printing\n",
    "#init_printing(use_unicode=False)\n",
    "\n",
    "from sympy import symbols\n",
    "from sympy.matrices import Matrix\n",
    "\n",
    "#define symbolic variable\n",
    "#A, B, C, D                      = symbols(\"A, B, C, D\")\n",
    "A1, B1, C1, D1                  = symbols(\"A1, B1, C1, D1\")\n",
    "A2, B2, C2, D2                  = symbols(\"A2, B2, C2, D2\")\n",
    "L, C, R                         = symbols(\"L, C, R\")\n",
    "iL, Vo, Vg, d, Vc               = symbols(\"iL, Vo, Vg, d, Vc\")\n",
    "\n",
    "\n",
    "x = Matrix([iL, Vc])\n",
    "u = Matrix([Vg])"
   ]
  },
  {
   "cell_type": "code",
   "execution_count": 25,
   "id": "6560374e",
   "metadata": {},
   "outputs": [
    {
     "data": {
      "text/latex": [
       "$\\displaystyle \\left[\\begin{matrix}0 & - \\frac{1}{L}\\\\\\frac{1}{C} & - \\frac{1}{C R}\\end{matrix}\\right]$"
      ],
      "text/plain": [
       "Matrix([\n",
       "[  0,     -1/L],\n",
       "[1/C, -1/(C*R)]])"
      ]
     },
     "metadata": {},
     "output_type": "display_data"
    },
    {
     "data": {
      "text/latex": [
       "$\\displaystyle \\left[\\begin{matrix}\\frac{1}{L}\\\\0\\end{matrix}\\right]$"
      ],
      "text/plain": [
       "Matrix([\n",
       "[1/L],\n",
       "[  0]])"
      ]
     },
     "metadata": {},
     "output_type": "display_data"
    },
    {
     "data": {
      "text/latex": [
       "$\\displaystyle \\left[\\begin{matrix}0 & 1\\end{matrix}\\right]$"
      ],
      "text/plain": [
       "Matrix([[0, 1]])"
      ]
     },
     "metadata": {},
     "output_type": "display_data"
    },
    {
     "data": {
      "text/latex": [
       "$\\displaystyle \\left[\\begin{matrix}0\\end{matrix}\\right]$"
      ],
      "text/plain": [
       "Matrix([[0]])"
      ]
     },
     "metadata": {},
     "output_type": "display_data"
    }
   ],
   "source": [
    "#define State-space Model\n",
    "# ON STATE\n",
    "A1= Matrix([[0, -1/L] ,\n",
    "            [1/C, -1/(R*C)]])\n",
    "\n",
    "B1= Matrix([1/L, 0])\n",
    "\n",
    "C1= Matrix([[0, 1]])\n",
    "D1= Matrix([0])\n",
    "\n",
    "display(A1)\n",
    "display(B1)\n",
    "display(C1)\n",
    "display(D1)"
   ]
  },
  {
   "cell_type": "code",
   "execution_count": 26,
   "id": "c65c07a0",
   "metadata": {},
   "outputs": [
    {
     "data": {
      "text/latex": [
       "$\\displaystyle \\left[\\begin{matrix}0 & - \\frac{1}{L}\\\\\\frac{1}{C} & - \\frac{1}{C R}\\end{matrix}\\right]$"
      ],
      "text/plain": [
       "Matrix([\n",
       "[  0,     -1/L],\n",
       "[1/C, -1/(C*R)]])"
      ]
     },
     "metadata": {},
     "output_type": "display_data"
    },
    {
     "data": {
      "text/latex": [
       "$\\displaystyle \\left[\\begin{matrix}0\\\\0\\end{matrix}\\right]$"
      ],
      "text/plain": [
       "Matrix([\n",
       "[0],\n",
       "[0]])"
      ]
     },
     "metadata": {},
     "output_type": "display_data"
    },
    {
     "data": {
      "text/latex": [
       "$\\displaystyle \\left[\\begin{matrix}0 & 1\\end{matrix}\\right]$"
      ],
      "text/plain": [
       "Matrix([[0, 1]])"
      ]
     },
     "metadata": {},
     "output_type": "display_data"
    },
    {
     "data": {
      "text/latex": [
       "$\\displaystyle \\left[\\begin{matrix}0\\end{matrix}\\right]$"
      ],
      "text/plain": [
       "Matrix([[0]])"
      ]
     },
     "metadata": {},
     "output_type": "display_data"
    }
   ],
   "source": [
    "# OFF STATE\n",
    "A2=Matrix([[0, -1/L] , \n",
    "          [1/C, -1/(R*C)]])\n",
    "\n",
    "B2= Matrix([0, 0])\n",
    "\n",
    "C2= Matrix([[0, 1]])\n",
    "D2= Matrix([0])\n",
    "\n",
    "display(A2)\n",
    "display(B2)\n",
    "display(C2)\n",
    "display(D2)"
   ]
  },
  {
   "cell_type": "code",
   "execution_count": 27,
   "id": "3e79ac37",
   "metadata": {},
   "outputs": [
    {
     "data": {
      "text/latex": [
       "$\\displaystyle \\left[\\begin{matrix}0 & - \\frac{d}{L} - \\frac{1 - d}{L}\\\\\\frac{d}{C} + \\frac{1 - d}{C} & - \\frac{d}{C R} - \\frac{1 - d}{C R}\\end{matrix}\\right]$"
      ],
      "text/plain": [
       "Matrix([\n",
       "[              0,         -d/L - (1 - d)/L],\n",
       "[d/C + (1 - d)/C, -d/(C*R) - (1 - d)/(C*R)]])"
      ]
     },
     "metadata": {},
     "output_type": "display_data"
    },
    {
     "data": {
      "text/latex": [
       "$\\displaystyle \\left[\\begin{matrix}\\frac{Vg d}{L}\\\\0\\end{matrix}\\right]$"
      ],
      "text/plain": [
       "Matrix([\n",
       "[Vg*d/L],\n",
       "[     0]])"
      ]
     },
     "metadata": {},
     "output_type": "display_data"
    },
    {
     "data": {
      "text/latex": [
       "$\\displaystyle \\left[\\begin{matrix}0 & 1\\end{matrix}\\right]$"
      ],
      "text/plain": [
       "Matrix([[0, 1]])"
      ]
     },
     "metadata": {},
     "output_type": "display_data"
    },
    {
     "data": {
      "text/latex": [
       "$\\displaystyle \\left[\\begin{matrix}0\\end{matrix}\\right]$"
      ],
      "text/plain": [
       "Matrix([[0]])"
      ]
     },
     "metadata": {},
     "output_type": "display_data"
    }
   ],
   "source": [
    "# ON STATE + OFF STATE\n",
    "# dx = A*x + B*u\n",
    "#  y = C*x + D*u\n",
    "A_sym = (A1*d + A2*(1-d))#*x\n",
    "B_sym = (B1*d + B2*(1-d))*u\n",
    "C_sym = (C1*d + C2*(1-d))#*x\n",
    "D_sym = (D1 + D2)*u\n",
    "display(A_sym)\n",
    "display(B_sym)\n",
    "display(C_sym)\n",
    "display(D_sym)"
   ]
  },
  {
   "cell_type": "code",
   "execution_count": 35,
   "id": "c0fe958a",
   "metadata": {},
   "outputs": [
    {
     "data": {
      "text/latex": [
       "$\\displaystyle \\left[\\begin{matrix}0 & -100000.0\\\\1.0 \\cdot 10^{-7} & -1.0 \\cdot 10^{-8}\\end{matrix}\\right]$"
      ],
      "text/plain": [
       "Matrix([\n",
       "[     0, -100000.0],\n",
       "[1.0e-7,   -1.0e-8]])"
      ]
     },
     "metadata": {},
     "output_type": "display_data"
    },
    {
     "data": {
      "text/latex": [
       "$\\displaystyle \\left[\\begin{matrix}25000.0\\\\0\\end{matrix}\\right]$"
      ],
      "text/plain": [
       "Matrix([\n",
       "[25000.0],\n",
       "[      0]])"
      ]
     },
     "metadata": {},
     "output_type": "display_data"
    },
    {
     "data": {
      "text/latex": [
       "$\\displaystyle \\left[\\begin{matrix}0 & 1\\end{matrix}\\right]$"
      ],
      "text/plain": [
       "Matrix([[0, 1]])"
      ]
     },
     "metadata": {},
     "output_type": "display_data"
    }
   ],
   "source": [
    "# Find Transfer Function from u to y\n",
    "A_exp = A_sym.subs({L: 10e-6, C: 10e6, d:0.25, R:10})\n",
    "B_exp = B_sym.subs({L: 10e-6, C: 10e6, d:0.25, R:10, Vg: 1})\n",
    "C_exp = C_sym\n",
    "D_exp = D_sym\n",
    "#p = {L: 10e-6, C: 10e6, d:0.25, R:10, Vg: 1}\n",
    "#A_exp = np.matrix(A_sym.subs(p))\n",
    "#B_exp = np.matrix(B_sym.subs(p))\n",
    "#C_exp = np.matrix(C_sym.subs(p))\n",
    "#D_exp = np.matrix(D_sym.subs(p))\n",
    "#display(A_sym)\n",
    "display(A_exp)\n",
    "#display(B_sym)\n",
    "display(B_exp)\n",
    "#display(C_sym)\n",
    "display(C_exp)\n",
    "\n",
    "# Convert the SymPy matrix to a NumPy matrix\n",
    "A_numpy = np.matrix(A_exp.tolist(), dtype=np.float64)\n",
    "B_numpy = np.matrix(B_exp.tolist(), dtype=np.float64)\n",
    "C_numpy = np.matrix(C_exp.tolist(), dtype=np.float64)\n",
    "D_numpy = np.matrix(D_exp.tolist(), dtype=np.float64)\n",
    "\n",
    "#display(numpy_A)\n",
    "#display(numpy_B)\n",
    "#display(numpy_C)"
   ]
  },
  {
   "cell_type": "code",
   "execution_count": null,
   "id": "b3562b6d",
   "metadata": {},
   "outputs": [],
   "source": [
    "import numpy as np\n",
    "import matplotlib.pyplot as plt\n",
    " \n",
    "# define the continuous-time system matrices\n",
    "A=A_numpy\n",
    "B=B_numpy\n",
    "C=C_numpy\n",
    "D=D_numpy\n",
    "\n",
    "#define an initial state for simulation\n",
    "# x = Matrix([iL, Vc]) ===>>>   x0 = Matrix([iL=0, Vc=0])\n",
    "x0 = np.matrix([[0],[0]])\n",
    "#display(x0)\n",
    "\n",
    "#define the number of time-samples used for the simulation and the sampling time for the discretization\n",
    "time=3000\n",
    "sampling=0.9\n",
    " \n",
    "#define an input sequence for the simulation\n",
    "#input_seq=np.random.rand(time,1)\n",
    "input_seq=np.ones(time)\n",
    "#plt.plot(input_sequence)\n",
    " \n",
    " \n",
    "# the following function simulates the state-space model using the backward Euler method\n",
    "# the input parameters are:\n",
    "#    -- A,B,C              - continuous time system matrices \n",
    "#    -- initial_state      - the initial state of the system \n",
    "#    -- time_steps         - the total number of simulation time steps \n",
    "#    -- sampling_perios    - the sampling period for the backward Euler discretization \n",
    "# this function returns the state sequence and the output sequence\n",
    "# they are stored in the vectors Xd and Yd respectively\n",
    "def simulate(A,B,C,initial_state,input_sequence, time_steps,sampling_period):\n",
    "    from numpy.linalg import inv\n",
    "    I=np.identity(A.shape[0]) # this is an identity matrix\n",
    "    Ad=inv(I-sampling_period*A)\n",
    "    Bd=Ad*sampling_period*B\n",
    "    Xd=np.zeros(shape=(A.shape[0],time_steps+1))\n",
    "    Yd=np.zeros(shape=(C.shape[0],time_steps+1))\n",
    "     \n",
    "    for i in range(0,time_steps):\n",
    "       if i==0:\n",
    "           Xd[:,[i]]=initial_state\n",
    "           Yd[:,[i]]=C*initial_state\n",
    "           x=Ad*initial_state+Bd*input_sequence[i]\n",
    "       else:\n",
    "           Xd[:,[i]]=x\n",
    "           Yd[:,[i]]=C*x\n",
    "           x=Ad*x+Bd*input_sequence[i]\n",
    "    Xd[:,[-1]]=x\n",
    "    Yd[:,[-1]]=C*x\n",
    "    return Xd, Yd\n",
    "     \n",
    "state,output=simulate(A,B,C,x0,input_seq, time ,sampling)    \n",
    "\n",
    "plt.plot(output[0,:])\n",
    "plt.xlabel('Discrete time instant-k')\n",
    "plt.ylabel('Output voltage [V]')\n",
    "plt.title('System step response')"
   ]
  },
  {
   "cell_type": "code",
   "execution_count": null,
   "id": "ee95221f",
   "metadata": {},
   "outputs": [],
   "source": []
  },
  {
   "cell_type": "code",
   "execution_count": null,
   "id": "6a2ba1ca",
   "metadata": {},
   "outputs": [],
   "source": []
  },
  {
   "cell_type": "code",
   "execution_count": null,
   "id": "e45db13c",
   "metadata": {},
   "outputs": [],
   "source": []
  }
 ],
 "metadata": {
  "kernelspec": {
   "display_name": "Python 3 (ipykernel)",
   "language": "python",
   "name": "python3"
  },
  "language_info": {
   "codemirror_mode": {
    "name": "ipython",
    "version": 3
   },
   "file_extension": ".py",
   "mimetype": "text/x-python",
   "name": "python",
   "nbconvert_exporter": "python",
   "pygments_lexer": "ipython3",
   "version": "3.9.13"
  }
 },
 "nbformat": 4,
 "nbformat_minor": 5
}
